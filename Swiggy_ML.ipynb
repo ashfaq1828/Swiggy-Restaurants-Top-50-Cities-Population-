{
 "cells": [
  {
   "cell_type": "code",
   "execution_count": 2,
   "id": "63168387",
   "metadata": {},
   "outputs": [],
   "source": [
    "import numpy as np \n",
    "import pandas as pd\n",
    "from matplotlib import pyplot as plt\n",
    "import seaborn as sns"
   ]
  },
  {
   "cell_type": "code",
   "execution_count": 3,
   "id": "91355279",
   "metadata": {},
   "outputs": [],
   "source": [
    "df =pd.read_csv(\"Swiggy_50.csv\")"
   ]
  },
  {
   "cell_type": "code",
   "execution_count": 6,
   "id": "14dd6663",
   "metadata": {},
   "outputs": [
    {
     "data": {
      "text/html": [
       "<div>\n",
       "<style scoped>\n",
       "    .dataframe tbody tr th:only-of-type {\n",
       "        vertical-align: middle;\n",
       "    }\n",
       "\n",
       "    .dataframe tbody tr th {\n",
       "        vertical-align: top;\n",
       "    }\n",
       "\n",
       "    .dataframe thead th {\n",
       "        text-align: right;\n",
       "    }\n",
       "</style>\n",
       "<table border=\"1\" class=\"dataframe\">\n",
       "  <thead>\n",
       "    <tr style=\"text-align: right;\">\n",
       "      <th></th>\n",
       "      <th>Restaurant Name</th>\n",
       "      <th>Category</th>\n",
       "      <th>Rating</th>\n",
       "      <th>Cost for two</th>\n",
       "      <th>Veg</th>\n",
       "      <th>city</th>\n",
       "      <th>Area</th>\n",
       "      <th>Locality</th>\n",
       "      <th>Address</th>\n",
       "      <th>Long Distance Delivery</th>\n",
       "    </tr>\n",
       "  </thead>\n",
       "  <tbody>\n",
       "    <tr>\n",
       "      <th>0</th>\n",
       "      <td>KFC</td>\n",
       "      <td>American,Snacks,Biryani</td>\n",
       "      <td>3.9</td>\n",
       "      <td>400</td>\n",
       "      <td>False</td>\n",
       "      <td>Delhi</td>\n",
       "      <td>Paharganj</td>\n",
       "      <td>KFC Paharganj</td>\n",
       "      <td>KFC Restaurant 2154, Desh Bandhu Gupta Road, N...</td>\n",
       "      <td>0</td>\n",
       "    </tr>\n",
       "    <tr>\n",
       "      <th>1</th>\n",
       "      <td>McDonald's</td>\n",
       "      <td>American</td>\n",
       "      <td>4.3</td>\n",
       "      <td>400</td>\n",
       "      <td>False</td>\n",
       "      <td>Delhi</td>\n",
       "      <td>Kashmere Gate</td>\n",
       "      <td>Delhi ISBT DMRC (GF)</td>\n",
       "      <td>Delhi ISBT DMRC,ISBT DMRC Railway Station. Kas...</td>\n",
       "      <td>0</td>\n",
       "    </tr>\n",
       "    <tr>\n",
       "      <th>2</th>\n",
       "      <td>Haldiram's</td>\n",
       "      <td>Sweets,Snacks,North Indian</td>\n",
       "      <td>4.0</td>\n",
       "      <td>350</td>\n",
       "      <td>True</td>\n",
       "      <td>Delhi</td>\n",
       "      <td>Chandni Chowk</td>\n",
       "      <td>Chandni Chowk</td>\n",
       "      <td>1452/2 Near Fountain Chandni Chowk Delhi 110015</td>\n",
       "      <td>0</td>\n",
       "    </tr>\n",
       "    <tr>\n",
       "      <th>3</th>\n",
       "      <td>Chai Point</td>\n",
       "      <td>Bakery,Beverages,Maharashtrian,Snacks,Street F...</td>\n",
       "      <td>4.2</td>\n",
       "      <td>150</td>\n",
       "      <td>False</td>\n",
       "      <td>Delhi</td>\n",
       "      <td>Connaught Place</td>\n",
       "      <td>Connaught Place</td>\n",
       "      <td>Shop No - B1, B Block Middle circle , Connaugh...</td>\n",
       "      <td>0</td>\n",
       "    </tr>\n",
       "    <tr>\n",
       "      <th>4</th>\n",
       "      <td>Bikanervala Chandni Chowk</td>\n",
       "      <td>Street Food,Sweets</td>\n",
       "      <td>4.1</td>\n",
       "      <td>400</td>\n",
       "      <td>False</td>\n",
       "      <td>Delhi</td>\n",
       "      <td>Old Delhi</td>\n",
       "      <td>Old Delhi</td>\n",
       "      <td>382, NEAR FATEH PUR, CHANDNI CHOWK,110006</td>\n",
       "      <td>0</td>\n",
       "    </tr>\n",
       "    <tr>\n",
       "      <th>...</th>\n",
       "      <td>...</td>\n",
       "      <td>...</td>\n",
       "      <td>...</td>\n",
       "      <td>...</td>\n",
       "      <td>...</td>\n",
       "      <td>...</td>\n",
       "      <td>...</td>\n",
       "      <td>...</td>\n",
       "      <td>...</td>\n",
       "      <td>...</td>\n",
       "    </tr>\n",
       "    <tr>\n",
       "      <th>31799</th>\n",
       "      <td>Khukri Desi Mutton &amp; Chicken Point</td>\n",
       "      <td>Indian,Biryani,Beverages</td>\n",
       "      <td>NaN</td>\n",
       "      <td>300</td>\n",
       "      <td>False</td>\n",
       "      <td>Bareilly</td>\n",
       "      <td>Pheonix Mall</td>\n",
       "      <td>Phoenix Mall</td>\n",
       "      <td>Parvana Nagar Opp.Jingel Bell Public School Pi...</td>\n",
       "      <td>1</td>\n",
       "    </tr>\n",
       "    <tr>\n",
       "      <th>31800</th>\n",
       "      <td>Monis Restaurant</td>\n",
       "      <td>South Indian,Chinese,Snacks,Desserts,North Indian</td>\n",
       "      <td>NaN</td>\n",
       "      <td>250</td>\n",
       "      <td>True</td>\n",
       "      <td>Bareilly</td>\n",
       "      <td>Suncity Vistaar</td>\n",
       "      <td>Phoenix Mall</td>\n",
       "      <td>6 B Shop No.1 Vatika Suncity Vistaar Bareilly ...</td>\n",
       "      <td>1</td>\n",
       "    </tr>\n",
       "    <tr>\n",
       "      <th>31801</th>\n",
       "      <td>T3 Tasty Table Talks</td>\n",
       "      <td>Indian,Thalis</td>\n",
       "      <td>NaN</td>\n",
       "      <td>200</td>\n",
       "      <td>True</td>\n",
       "      <td>Bareilly</td>\n",
       "      <td>MahaNagar Colony</td>\n",
       "      <td>Phoenix Mall</td>\n",
       "      <td>117, Utsav-II, Ujjwal Phase - 1, Mahanagar Col...</td>\n",
       "      <td>1</td>\n",
       "    </tr>\n",
       "    <tr>\n",
       "      <th>31802</th>\n",
       "      <td>The Green Lemon</td>\n",
       "      <td>Indian</td>\n",
       "      <td>NaN</td>\n",
       "      <td>400</td>\n",
       "      <td>False</td>\n",
       "      <td>Bareilly</td>\n",
       "      <td>Chhoti Vihar</td>\n",
       "      <td>Phoenix Mall</td>\n",
       "      <td>Gate-1 Ashutosh City Near Phoenix Mall Pilibhi...</td>\n",
       "      <td>1</td>\n",
       "    </tr>\n",
       "    <tr>\n",
       "      <th>31803</th>\n",
       "      <td>Pizza Home City</td>\n",
       "      <td>Pizzas,Beverages,Pastas,Italian,Desserts,Snacks</td>\n",
       "      <td>NaN</td>\n",
       "      <td>200</td>\n",
       "      <td>True</td>\n",
       "      <td>Bareilly</td>\n",
       "      <td>Ashutosh City</td>\n",
       "      <td>Phoenix Mall</td>\n",
       "      <td>1st Floor Urmila Maurya House No.48 Near By Me...</td>\n",
       "      <td>1</td>\n",
       "    </tr>\n",
       "  </tbody>\n",
       "</table>\n",
       "<p>31804 rows × 10 columns</p>\n",
       "</div>"
      ],
      "text/plain": [
       "                          Restaurant Name  \\\n",
       "0                                     KFC   \n",
       "1                              McDonald's   \n",
       "2                              Haldiram's   \n",
       "3                              Chai Point   \n",
       "4               Bikanervala Chandni Chowk   \n",
       "...                                   ...   \n",
       "31799  Khukri Desi Mutton & Chicken Point   \n",
       "31800                    Monis Restaurant   \n",
       "31801                T3 Tasty Table Talks   \n",
       "31802                     The Green Lemon   \n",
       "31803                     Pizza Home City   \n",
       "\n",
       "                                                Category  Rating  \\\n",
       "0                                American,Snacks,Biryani     3.9   \n",
       "1                                               American     4.3   \n",
       "2                             Sweets,Snacks,North Indian     4.0   \n",
       "3      Bakery,Beverages,Maharashtrian,Snacks,Street F...     4.2   \n",
       "4                                     Street Food,Sweets     4.1   \n",
       "...                                                  ...     ...   \n",
       "31799                           Indian,Biryani,Beverages     NaN   \n",
       "31800  South Indian,Chinese,Snacks,Desserts,North Indian     NaN   \n",
       "31801                                      Indian,Thalis     NaN   \n",
       "31802                                             Indian     NaN   \n",
       "31803    Pizzas,Beverages,Pastas,Italian,Desserts,Snacks     NaN   \n",
       "\n",
       "       Cost for two    Veg      city               Area              Locality  \\\n",
       "0               400  False     Delhi          Paharganj         KFC Paharganj   \n",
       "1               400  False     Delhi      Kashmere Gate  Delhi ISBT DMRC (GF)   \n",
       "2               350   True     Delhi      Chandni Chowk         Chandni Chowk   \n",
       "3               150  False     Delhi    Connaught Place       Connaught Place   \n",
       "4               400  False     Delhi          Old Delhi             Old Delhi   \n",
       "...             ...    ...       ...                ...                   ...   \n",
       "31799           300  False  Bareilly       Pheonix Mall          Phoenix Mall   \n",
       "31800           250   True  Bareilly    Suncity Vistaar          Phoenix Mall   \n",
       "31801           200   True  Bareilly   MahaNagar Colony          Phoenix Mall   \n",
       "31802           400  False  Bareilly       Chhoti Vihar          Phoenix Mall   \n",
       "31803           200   True  Bareilly      Ashutosh City          Phoenix Mall   \n",
       "\n",
       "                                                 Address  \\\n",
       "0      KFC Restaurant 2154, Desh Bandhu Gupta Road, N...   \n",
       "1      Delhi ISBT DMRC,ISBT DMRC Railway Station. Kas...   \n",
       "2        1452/2 Near Fountain Chandni Chowk Delhi 110015   \n",
       "3      Shop No - B1, B Block Middle circle , Connaugh...   \n",
       "4              382, NEAR FATEH PUR, CHANDNI CHOWK,110006   \n",
       "...                                                  ...   \n",
       "31799  Parvana Nagar Opp.Jingel Bell Public School Pi...   \n",
       "31800  6 B Shop No.1 Vatika Suncity Vistaar Bareilly ...   \n",
       "31801  117, Utsav-II, Ujjwal Phase - 1, Mahanagar Col...   \n",
       "31802  Gate-1 Ashutosh City Near Phoenix Mall Pilibhi...   \n",
       "31803  1st Floor Urmila Maurya House No.48 Near By Me...   \n",
       "\n",
       "       Long Distance Delivery  \n",
       "0                           0  \n",
       "1                           0  \n",
       "2                           0  \n",
       "3                           0  \n",
       "4                           0  \n",
       "...                       ...  \n",
       "31799                       1  \n",
       "31800                       1  \n",
       "31801                       1  \n",
       "31802                       1  \n",
       "31803                       1  \n",
       "\n",
       "[31804 rows x 10 columns]"
      ]
     },
     "execution_count": 6,
     "metadata": {},
     "output_type": "execute_result"
    }
   ],
   "source": [
    "df"
   ]
  },
  {
   "cell_type": "code",
   "execution_count": 5,
   "id": "77da52f0",
   "metadata": {},
   "outputs": [
    {
     "data": {
      "text/html": [
       "<div>\n",
       "<style scoped>\n",
       "    .dataframe tbody tr th:only-of-type {\n",
       "        vertical-align: middle;\n",
       "    }\n",
       "\n",
       "    .dataframe tbody tr th {\n",
       "        vertical-align: top;\n",
       "    }\n",
       "\n",
       "    .dataframe thead th {\n",
       "        text-align: right;\n",
       "    }\n",
       "</style>\n",
       "<table border=\"1\" class=\"dataframe\">\n",
       "  <thead>\n",
       "    <tr style=\"text-align: right;\">\n",
       "      <th></th>\n",
       "      <th>Rating</th>\n",
       "      <th>Cost for two</th>\n",
       "      <th>Long Distance Delivery</th>\n",
       "    </tr>\n",
       "  </thead>\n",
       "  <tbody>\n",
       "    <tr>\n",
       "      <th>count</th>\n",
       "      <td>14138.000000</td>\n",
       "      <td>31804.000000</td>\n",
       "      <td>31804.000000</td>\n",
       "    </tr>\n",
       "    <tr>\n",
       "      <th>mean</th>\n",
       "      <td>3.907745</td>\n",
       "      <td>289.795592</td>\n",
       "      <td>0.358414</td>\n",
       "    </tr>\n",
       "    <tr>\n",
       "      <th>std</th>\n",
       "      <td>0.456514</td>\n",
       "      <td>174.896346</td>\n",
       "      <td>0.479542</td>\n",
       "    </tr>\n",
       "    <tr>\n",
       "      <th>min</th>\n",
       "      <td>1.100000</td>\n",
       "      <td>0.000000</td>\n",
       "      <td>0.000000</td>\n",
       "    </tr>\n",
       "    <tr>\n",
       "      <th>25%</th>\n",
       "      <td>3.700000</td>\n",
       "      <td>200.000000</td>\n",
       "      <td>0.000000</td>\n",
       "    </tr>\n",
       "    <tr>\n",
       "      <th>50%</th>\n",
       "      <td>4.000000</td>\n",
       "      <td>250.000000</td>\n",
       "      <td>0.000000</td>\n",
       "    </tr>\n",
       "    <tr>\n",
       "      <th>75%</th>\n",
       "      <td>4.200000</td>\n",
       "      <td>300.000000</td>\n",
       "      <td>1.000000</td>\n",
       "    </tr>\n",
       "    <tr>\n",
       "      <th>max</th>\n",
       "      <td>5.000000</td>\n",
       "      <td>3100.000000</td>\n",
       "      <td>1.000000</td>\n",
       "    </tr>\n",
       "  </tbody>\n",
       "</table>\n",
       "</div>"
      ],
      "text/plain": [
       "             Rating  Cost for two  Long Distance Delivery\n",
       "count  14138.000000  31804.000000            31804.000000\n",
       "mean       3.907745    289.795592                0.358414\n",
       "std        0.456514    174.896346                0.479542\n",
       "min        1.100000      0.000000                0.000000\n",
       "25%        3.700000    200.000000                0.000000\n",
       "50%        4.000000    250.000000                0.000000\n",
       "75%        4.200000    300.000000                1.000000\n",
       "max        5.000000   3100.000000                1.000000"
      ]
     },
     "execution_count": 5,
     "metadata": {},
     "output_type": "execute_result"
    }
   ],
   "source": [
    "df.describe()"
   ]
  },
  {
   "cell_type": "code",
   "execution_count": 7,
   "id": "6772a49d",
   "metadata": {},
   "outputs": [
    {
     "name": "stdout",
     "output_type": "stream",
     "text": [
      "<class 'pandas.core.frame.DataFrame'>\n",
      "RangeIndex: 31804 entries, 0 to 31803\n",
      "Data columns (total 10 columns):\n",
      " #   Column                  Non-Null Count  Dtype  \n",
      "---  ------                  --------------  -----  \n",
      " 0   Restaurant Name         31804 non-null  object \n",
      " 1   Category                31804 non-null  object \n",
      " 2   Rating                  14138 non-null  float64\n",
      " 3   Cost for two            31804 non-null  int64  \n",
      " 4   Veg                     31804 non-null  bool   \n",
      " 5   city                    31804 non-null  object \n",
      " 6   Area                    31804 non-null  object \n",
      " 7   Locality                31780 non-null  object \n",
      " 8   Address                 31802 non-null  object \n",
      " 9   Long Distance Delivery  31804 non-null  int64  \n",
      "dtypes: bool(1), float64(1), int64(2), object(6)\n",
      "memory usage: 2.2+ MB\n"
     ]
    }
   ],
   "source": [
    "df.info()"
   ]
  },
  {
   "cell_type": "code",
   "execution_count": 5,
   "id": "5b573e04",
   "metadata": {},
   "outputs": [
    {
     "data": {
      "text/plain": [
       "array(['Delhi', 'Mumbai', 'Kolkata', 'Bangalore', 'Chennai', 'Hyderabad',\n",
       "       'Pune', 'Ahmedabad', 'Surat', 'Lucknow', 'Jaipur', 'Cawnpore',\n",
       "       'Mirzapur', 'Nagpur', 'Ghaziabad', 'Indore', 'Vadodara',\n",
       "       'Vishakhapatnam', 'Bhopal', 'Chinchvad', 'Patna', 'Ludhiana',\n",
       "       'Agra', 'Kalyan', 'Madurai', 'Jamshedpur', 'Nasik', 'Faridabad',\n",
       "       'Aurangabad', 'Rajkot', 'Meerut', 'Jabalpur', 'Thane', 'Dhanbad',\n",
       "       'Allahabad', 'Varanasi', 'Amritsar', 'Aligarh', 'Bhiwandi',\n",
       "       'Gwalior', 'Bhilai', 'Haora', 'Ranchi', 'Bezwada', 'Chandigarh',\n",
       "       'Mysore', 'Raipur', 'Kota', 'Bareilly'], dtype=object)"
      ]
     },
     "execution_count": 5,
     "metadata": {},
     "output_type": "execute_result"
    }
   ],
   "source": [
    "df['city'].unique()\n"
   ]
  },
  {
   "cell_type": "code",
   "execution_count": 4,
   "id": "7f2ad469",
   "metadata": {},
   "outputs": [],
   "source": [
    "missing_value = [\"N/a\",\"na\",np.nan]\n",
    "df=pd.read_csv(\"Swiggy_50.csv\",na_values=missing_value)"
   ]
  },
  {
   "cell_type": "code",
   "execution_count": 5,
   "id": "3cd1e6a2",
   "metadata": {},
   "outputs": [
    {
     "data": {
      "text/plain": [
       "Restaurant Name               0\n",
       "Category                      0\n",
       "Rating                    17666\n",
       "Cost for two                  0\n",
       "Veg                           0\n",
       "city                          0\n",
       "Area                          0\n",
       "Locality                     24\n",
       "Address                       2\n",
       "Long Distance Delivery        0\n",
       "dtype: int64"
      ]
     },
     "execution_count": 5,
     "metadata": {},
     "output_type": "execute_result"
    }
   ],
   "source": [
    "df.isnull().sum()"
   ]
  },
  {
   "cell_type": "code",
   "execution_count": null,
   "id": "99e4163a",
   "metadata": {},
   "outputs": [],
   "source": []
  },
  {
   "cell_type": "code",
   "execution_count": null,
   "id": "c1a19be3",
   "metadata": {},
   "outputs": [],
   "source": []
  },
  {
   "cell_type": "code",
   "execution_count": 6,
   "id": "0d165c19",
   "metadata": {},
   "outputs": [],
   "source": [
    "# Replacing the NaN values of Rating by its mean value\n",
    "\n",
    "df['Rating'].fillna(df['Rating'].median(),inplace = True)"
   ]
  },
  {
   "cell_type": "code",
   "execution_count": 7,
   "id": "0b9d255d",
   "metadata": {},
   "outputs": [
    {
     "data": {
      "text/plain": [
       "0        3.9\n",
       "1        4.3\n",
       "2        4.0\n",
       "3        4.2\n",
       "4        4.1\n",
       "        ... \n",
       "31799    4.0\n",
       "31800    4.0\n",
       "31801    4.0\n",
       "31802    4.0\n",
       "31803    4.0\n",
       "Name: Rating, Length: 31804, dtype: float64"
      ]
     },
     "execution_count": 7,
     "metadata": {},
     "output_type": "execute_result"
    }
   ],
   "source": [
    "df['Rating']"
   ]
  },
  {
   "cell_type": "code",
   "execution_count": null,
   "id": "6eb84ac7",
   "metadata": {},
   "outputs": [],
   "source": []
  },
  {
   "cell_type": "markdown",
   "id": "53e4b9de",
   "metadata": {},
   "source": [
    "## Drop the columns with Null values"
   ]
  },
  {
   "cell_type": "code",
   "execution_count": 8,
   "id": "0e9891c6",
   "metadata": {},
   "outputs": [],
   "source": [
    "df.drop(\"Locality\",axis=1,inplace=True)"
   ]
  },
  {
   "cell_type": "code",
   "execution_count": 9,
   "id": "e95ec1ea",
   "metadata": {},
   "outputs": [],
   "source": [
    "df.drop(\"Address\",axis=1,inplace=True)"
   ]
  },
  {
   "cell_type": "code",
   "execution_count": null,
   "id": "7c7406cd",
   "metadata": {},
   "outputs": [],
   "source": []
  },
  {
   "cell_type": "code",
   "execution_count": 10,
   "id": "302c1d86",
   "metadata": {},
   "outputs": [
    {
     "data": {
      "text/html": [
       "<div>\n",
       "<style scoped>\n",
       "    .dataframe tbody tr th:only-of-type {\n",
       "        vertical-align: middle;\n",
       "    }\n",
       "\n",
       "    .dataframe tbody tr th {\n",
       "        vertical-align: top;\n",
       "    }\n",
       "\n",
       "    .dataframe thead th {\n",
       "        text-align: right;\n",
       "    }\n",
       "</style>\n",
       "<table border=\"1\" class=\"dataframe\">\n",
       "  <thead>\n",
       "    <tr style=\"text-align: right;\">\n",
       "      <th></th>\n",
       "      <th>Restaurant Name</th>\n",
       "      <th>Category</th>\n",
       "      <th>Rating</th>\n",
       "      <th>Cost for two</th>\n",
       "      <th>Veg</th>\n",
       "      <th>city</th>\n",
       "      <th>Area</th>\n",
       "      <th>Long Distance Delivery</th>\n",
       "    </tr>\n",
       "  </thead>\n",
       "  <tbody>\n",
       "    <tr>\n",
       "      <th>0</th>\n",
       "      <td>KFC</td>\n",
       "      <td>American,Snacks,Biryani</td>\n",
       "      <td>3.9</td>\n",
       "      <td>400</td>\n",
       "      <td>False</td>\n",
       "      <td>Delhi</td>\n",
       "      <td>Paharganj</td>\n",
       "      <td>0</td>\n",
       "    </tr>\n",
       "    <tr>\n",
       "      <th>1</th>\n",
       "      <td>McDonald's</td>\n",
       "      <td>American</td>\n",
       "      <td>4.3</td>\n",
       "      <td>400</td>\n",
       "      <td>False</td>\n",
       "      <td>Delhi</td>\n",
       "      <td>Kashmere Gate</td>\n",
       "      <td>0</td>\n",
       "    </tr>\n",
       "    <tr>\n",
       "      <th>2</th>\n",
       "      <td>Haldiram's</td>\n",
       "      <td>Sweets,Snacks,North Indian</td>\n",
       "      <td>4.0</td>\n",
       "      <td>350</td>\n",
       "      <td>True</td>\n",
       "      <td>Delhi</td>\n",
       "      <td>Chandni Chowk</td>\n",
       "      <td>0</td>\n",
       "    </tr>\n",
       "    <tr>\n",
       "      <th>3</th>\n",
       "      <td>Chai Point</td>\n",
       "      <td>Bakery,Beverages,Maharashtrian,Snacks,Street F...</td>\n",
       "      <td>4.2</td>\n",
       "      <td>150</td>\n",
       "      <td>False</td>\n",
       "      <td>Delhi</td>\n",
       "      <td>Connaught Place</td>\n",
       "      <td>0</td>\n",
       "    </tr>\n",
       "    <tr>\n",
       "      <th>4</th>\n",
       "      <td>Bikanervala Chandni Chowk</td>\n",
       "      <td>Street Food,Sweets</td>\n",
       "      <td>4.1</td>\n",
       "      <td>400</td>\n",
       "      <td>False</td>\n",
       "      <td>Delhi</td>\n",
       "      <td>Old Delhi</td>\n",
       "      <td>0</td>\n",
       "    </tr>\n",
       "  </tbody>\n",
       "</table>\n",
       "</div>"
      ],
      "text/plain": [
       "             Restaurant Name  \\\n",
       "0                        KFC   \n",
       "1                 McDonald's   \n",
       "2                 Haldiram's   \n",
       "3                 Chai Point   \n",
       "4  Bikanervala Chandni Chowk   \n",
       "\n",
       "                                            Category  Rating  Cost for two  \\\n",
       "0                            American,Snacks,Biryani     3.9           400   \n",
       "1                                           American     4.3           400   \n",
       "2                         Sweets,Snacks,North Indian     4.0           350   \n",
       "3  Bakery,Beverages,Maharashtrian,Snacks,Street F...     4.2           150   \n",
       "4                                 Street Food,Sweets     4.1           400   \n",
       "\n",
       "     Veg   city             Area  Long Distance Delivery  \n",
       "0  False  Delhi        Paharganj                       0  \n",
       "1  False  Delhi    Kashmere Gate                       0  \n",
       "2   True  Delhi    Chandni Chowk                       0  \n",
       "3  False  Delhi  Connaught Place                       0  \n",
       "4  False  Delhi        Old Delhi                       0  "
      ]
     },
     "execution_count": 10,
     "metadata": {},
     "output_type": "execute_result"
    }
   ],
   "source": [
    "df.head()"
   ]
  },
  {
   "cell_type": "code",
   "execution_count": null,
   "id": "e4b4b60c",
   "metadata": {},
   "outputs": [],
   "source": []
  },
  {
   "cell_type": "markdown",
   "id": "753faeb1",
   "metadata": {},
   "source": [
    "## EDA & Descritive data analysis"
   ]
  },
  {
   "cell_type": "code",
   "execution_count": null,
   "id": "fdec83ea",
   "metadata": {},
   "outputs": [],
   "source": []
  },
  {
   "cell_type": "code",
   "execution_count": 21,
   "id": "c90ada06",
   "metadata": {},
   "outputs": [
    {
     "data": {
      "text/plain": [
       "count      31804\n",
       "unique      9475\n",
       "top       Indian\n",
       "freq        1125\n",
       "Name: Category, dtype: object"
      ]
     },
     "execution_count": 21,
     "metadata": {},
     "output_type": "execute_result"
    }
   ],
   "source": [
    "target_counts= df['Category'].value_counts()\n",
    "\n",
    "df['Category'].describe()"
   ]
  },
  {
   "cell_type": "code",
   "execution_count": 22,
   "id": "01a9d26a",
   "metadata": {},
   "outputs": [
    {
     "name": "stdout",
     "output_type": "stream",
     "text": [
      "Indian                                             1125\n",
      "Chinese                                            1021\n",
      "North Indian                                        940\n",
      "Bakery                                              853\n",
      "Snacks                                              536\n",
      "                                                   ... \n",
      "North Indian,Indian,Chinese,Tandoor,Beverages         1\n",
      "Indian,Mughlai,Biryani,Tandoor                        1\n",
      "Thai,Korean,Japanese,Chinese                          1\n",
      "Lucknowi,North Indian,Fast Food,Punjabi               1\n",
      "Pizzas,Beverages,Pastas,Italian,Desserts,Snacks       1\n",
      "Name: Category, Length: 9475, dtype: int64\n"
     ]
    }
   ],
   "source": [
    "print(target_counts)"
   ]
  },
  {
   "cell_type": "code",
   "execution_count": 28,
   "id": "6856a560",
   "metadata": {},
   "outputs": [],
   "source": [
    "Top_category=target_counts.head(5)"
   ]
  },
  {
   "cell_type": "code",
   "execution_count": 29,
   "id": "e6170b5f",
   "metadata": {},
   "outputs": [
    {
     "data": {
      "text/plain": [
       "<AxesSubplot:ylabel='Category'>"
      ]
     },
     "execution_count": 29,
     "metadata": {},
     "output_type": "execute_result"
    },
    {
     "data": {
      "image/png": "[encoded data removed]",
      "text/plain": [
       "<Figure size 1080x504 with 2 Axes>"
      ]
     },
     "metadata": {
      "needs_background": "light"
     },
     "output_type": "display_data"
    }
   ],
   "source": [
    "fig, ax = plt.subplots(1, 2, figsize=(15,7))\n",
    "Top_category_barplot = sns.barplot(y = Top_category.index,x = Top_category.values, ax = ax[0])\n",
    "Top_category_barplot.set_ylabel('Top food categories')\n",
    "ax[0].set_facecolor('white')\n",
    "\n",
    "Top_category.plot.pie(autopct=\"%1.1f%%\", ax=ax[1])"
   ]
  },
  {
   "cell_type": "code",
   "execution_count": null,
   "id": "eb3fb482",
   "metadata": {},
   "outputs": [],
   "source": []
  },
  {
   "cell_type": "code",
   "execution_count": null,
   "id": "9b75586e",
   "metadata": {},
   "outputs": [],
   "source": []
  },
  {
   "cell_type": "code",
   "execution_count": 30,
   "id": "0e23e9a1",
   "metadata": {},
   "outputs": [
    {
     "data": {
      "text/plain": [
       "count         31804\n",
       "unique        27871\n",
       "top       Pizza Hut\n",
       "freq             44\n",
       "Name: Restaurant Name, dtype: object"
      ]
     },
     "execution_count": 30,
     "metadata": {},
     "output_type": "execute_result"
    }
   ],
   "source": [
    "target_counts1= df['Restaurant Name'].value_counts()\n",
    "\n",
    "df['Restaurant Name'].describe()"
   ]
  },
  {
   "cell_type": "code",
   "execution_count": 31,
   "id": "4b9e580a",
   "metadata": {},
   "outputs": [
    {
     "name": "stdout",
     "output_type": "stream",
     "text": [
      "Pizza Hut                                          44\n",
      "NIC Natural Ice Creams                             42\n",
      "Kwality Walls Frozen Dessert and Ice Cream Shop    42\n",
      "KFC                                                41\n",
      "Baskin Robbins                                     41\n",
      "                                                   ..\n",
      "Bikaner Sweets                                      1\n",
      "landmark cafe                                       1\n",
      "SHRI GANPATI MISTHAN BHANDAR                        1\n",
      "Om Food Point                                       1\n",
      "Pizza Home City                                     1\n",
      "Name: Restaurant Name, Length: 27871, dtype: int64\n"
     ]
    }
   ],
   "source": [
    "print(target_counts1)"
   ]
  },
  {
   "cell_type": "code",
   "execution_count": 32,
   "id": "c47d85ea",
   "metadata": {},
   "outputs": [],
   "source": [
    "Top_Restaurants=target_counts1.head(5)"
   ]
  },
  {
   "cell_type": "code",
   "execution_count": 61,
   "id": "5cd791f8",
   "metadata": {},
   "outputs": [
    {
     "data": {
      "text/plain": [
       "<AxesSubplot:ylabel='Restaurant Name'>"
      ]
     },
     "execution_count": 61,
     "metadata": {},
     "output_type": "execute_result"
    },
    {
     "data": {
      "image/png": "[encoded data removed]",
      "text/plain": [
       "<Figure size 864x864 with 1 Axes>"
      ]
     },
     "metadata": {},
     "output_type": "display_data"
    }
   ],
   "source": [
    "ax = plt.subplots(figsize = ([12,12]))\n",
    "Top_Restaurants_barplot.set_ylabel('Top Restaurants')\n",
    "ax[0].set_facecolor('white')\n",
    "\n",
    "Top_Restaurants.plot.pie(autopct=\"%1.1f%%\", ax=ax[1])"
   ]
  },
  {
   "cell_type": "code",
   "execution_count": null,
   "id": "c49c33f7",
   "metadata": {},
   "outputs": [],
   "source": []
  },
  {
   "cell_type": "code",
   "execution_count": 40,
   "id": "3a8b2f39",
   "metadata": {},
   "outputs": [
    {
     "data": {
      "text/plain": [
       "count         31804\n",
       "unique           49\n",
       "top       Ghaziabad\n",
       "freq           1556\n",
       "Name: city, dtype: object"
      ]
     },
     "execution_count": 40,
     "metadata": {},
     "output_type": "execute_result"
    }
   ],
   "source": [
    "target_counts2= df['city'].value_counts()\n",
    "\n",
    "df['city'].describe()"
   ]
  },
  {
   "cell_type": "code",
   "execution_count": 41,
   "id": "d3843b4d",
   "metadata": {},
   "outputs": [
    {
     "name": "stdout",
     "output_type": "stream",
     "text": [
      "Ghaziabad         1556\n",
      "Kolkata           1527\n",
      "Pune              1492\n",
      "Delhi             1424\n",
      "Lucknow           1232\n",
      "Ahmedabad         1163\n",
      "Mumbai            1147\n",
      "Hyderabad         1112\n",
      "Indore            1089\n",
      "Nagpur            1031\n",
      "Chinchvad         1022\n",
      "Cawnpore           996\n",
      "Bangalore          917\n",
      "Thane              874\n",
      "Ludhiana           853\n",
      "Chandigarh         786\n",
      "Surat              763\n",
      "Patna              761\n",
      "Varanasi           735\n",
      "Vadodara           665\n",
      "Faridabad          637\n",
      "Raipur             548\n",
      "Bhopal             542\n",
      "Nasik              538\n",
      "Jaipur             503\n",
      "Ranchi             501\n",
      "Aurangabad         482\n",
      "Allahabad          471\n",
      "Bezwada            466\n",
      "Agra               462\n",
      "Amritsar           461\n",
      "Mysore             395\n",
      "Rajkot             388\n",
      "Vishakhapatnam     381\n",
      "Madurai            376\n",
      "Bareilly           376\n",
      "Jamshedpur         374\n",
      "Chennai            374\n",
      "Kalyan             366\n",
      "Gwalior            342\n",
      "Meerut             308\n",
      "Jabalpur           283\n",
      "Haora              271\n",
      "Aligarh            231\n",
      "Kota               228\n",
      "Dhanbad            156\n",
      "Bhiwandi            92\n",
      "Mirzapur            56\n",
      "Bhilai              51\n",
      "Name: city, dtype: int64\n"
     ]
    }
   ],
   "source": [
    "print(target_counts2)"
   ]
  },
  {
   "cell_type": "code",
   "execution_count": 42,
   "id": "cf828dd0",
   "metadata": {},
   "outputs": [],
   "source": [
    "Top_Cities=target_counts2.head(5)"
   ]
  },
  {
   "cell_type": "code",
   "execution_count": 44,
   "id": "f5bdc11e",
   "metadata": {},
   "outputs": [
    {
     "data": {
      "text/plain": [
       "<AxesSubplot:ylabel='city'>"
      ]
     },
     "execution_count": 44,
     "metadata": {},
     "output_type": "execute_result"
    },
    {
     "data": {
      "image/png": "[encoded data removed]",
      "text/plain": [
       "<Figure size 1080x504 with 2 Axes>"
      ]
     },
     "metadata": {
      "needs_background": "light"
     },
     "output_type": "display_data"
    }
   ],
   "source": [
    "fig, ax = plt.subplots(1, 2, figsize=(15,7))\n",
    "Top_Cities_barplot = sns.barplot(y = Top_Cities.index,x = Top_Cities.values, ax = ax[0])\n",
    "Top_Cities_barplot.set_ylabel('Top Cities')\n",
    "ax[0].set_facecolor('white')\n",
    "\n",
    "Top_Cities.plot.pie(autopct=\"%1.1f%%\", ax=ax[1])"
   ]
  },
  {
   "cell_type": "code",
   "execution_count": null,
   "id": "9907b566",
   "metadata": {},
   "outputs": [],
   "source": []
  },
  {
   "cell_type": "code",
   "execution_count": 70,
   "id": "0602fecf",
   "metadata": {},
   "outputs": [
    {
     "data": {
      "text/plain": [
       "count    31804.000000\n",
       "mean         0.358414\n",
       "std          0.479542\n",
       "min          0.000000\n",
       "25%          0.000000\n",
       "50%          0.000000\n",
       "75%          1.000000\n",
       "max          1.000000\n",
       "Name: Long Distance Delivery, dtype: float64"
      ]
     },
     "execution_count": 70,
     "metadata": {},
     "output_type": "execute_result"
    }
   ],
   "source": [
    "target_counts3= df['Long Distance Delivery'].value_counts()\n",
    "\n",
    "df['Long Distance Delivery'].describe()"
   ]
  },
  {
   "cell_type": "code",
   "execution_count": 71,
   "id": "481055d5",
   "metadata": {},
   "outputs": [
    {
     "name": "stdout",
     "output_type": "stream",
     "text": [
      "0    20405\n",
      "1    11399\n",
      "Name: Long Distance Delivery, dtype: int64\n"
     ]
    }
   ],
   "source": [
    "print(target_counts3)"
   ]
  },
  {
   "cell_type": "code",
   "execution_count": null,
   "id": "451464f9",
   "metadata": {},
   "outputs": [],
   "source": []
  },
  {
   "cell_type": "code",
   "execution_count": 48,
   "id": "6d018472",
   "metadata": {},
   "outputs": [
    {
     "data": {
      "text/plain": [
       "count     31804\n",
       "unique        2\n",
       "top       False\n",
       "freq      23054\n",
       "Name: Veg, dtype: object"
      ]
     },
     "execution_count": 48,
     "metadata": {},
     "output_type": "execute_result"
    }
   ],
   "source": [
    "target_counts4= df['Veg'].value_counts()\n",
    "\n",
    "df['Veg'].describe()"
   ]
  },
  {
   "cell_type": "code",
   "execution_count": 49,
   "id": "c2b5b832",
   "metadata": {},
   "outputs": [
    {
     "name": "stdout",
     "output_type": "stream",
     "text": [
      "False    23054\n",
      "True      8750\n",
      "Name: Veg, dtype: int64\n"
     ]
    }
   ],
   "source": [
    "print(target_counts4)"
   ]
  },
  {
   "cell_type": "code",
   "execution_count": 19,
   "id": "51c3a0e9",
   "metadata": {},
   "outputs": [
    {
     "data": {
      "text/plain": [
       "count     31804\n",
       "unique        2\n",
       "top       False\n",
       "freq      23054\n",
       "Name: Veg, dtype: object"
      ]
     },
     "execution_count": 19,
     "metadata": {},
     "output_type": "execute_result"
    },
    {
     "data": {
      "image/png": "[encoded data removed]",
      "text/plain": [
       "<Figure size 432x288 with 1 Axes>"
      ]
     },
     "metadata": {
      "needs_background": "light"
     },
     "output_type": "display_data"
    }
   ],
   "source": [
    "sns.countplot(x=\"Veg\",data=df)\n",
    "df['Veg'].describe()"
   ]
  },
  {
   "cell_type": "code",
   "execution_count": 50,
   "id": "feb161c0",
   "metadata": {},
   "outputs": [],
   "source": [
    "No_of_Veg=target_counts4.head(5)"
   ]
  },
  {
   "cell_type": "code",
   "execution_count": 62,
   "id": "be3152bb",
   "metadata": {},
   "outputs": [
    {
     "data": {
      "text/plain": [
       "<AxesSubplot:ylabel='Veg'>"
      ]
     },
     "execution_count": 62,
     "metadata": {},
     "output_type": "execute_result"
    },
    {
     "data": {
      "image/png": "[encoded data removed]",
      "text/plain": [
       "<Figure size 864x864 with 1 Axes>"
      ]
     },
     "metadata": {},
     "output_type": "display_data"
    }
   ],
   "source": [
    "ax = plt.subplots(figsize = ([12,12]))\n",
    "No_of_Veg_barplot.set_ylabel('No of Veg')\n",
    "ax[0].set_facecolor('white')\n",
    "\n",
    "No_of_Veg.plot.pie(autopct=\"%1.1f%%\", ax=ax[1])"
   ]
  },
  {
   "cell_type": "code",
   "execution_count": null,
   "id": "d49c7b87",
   "metadata": {},
   "outputs": [],
   "source": []
  },
  {
   "cell_type": "code",
   "execution_count": 64,
   "id": "28bb3e42",
   "metadata": {},
   "outputs": [
    {
     "data": {
      "text/plain": [
       "count    31804.000000\n",
       "mean         3.958989\n",
       "std          0.307801\n",
       "min          1.100000\n",
       "25%          4.000000\n",
       "50%          4.000000\n",
       "75%          4.000000\n",
       "max          5.000000\n",
       "Name: Rating, dtype: float64"
      ]
     },
     "execution_count": 64,
     "metadata": {},
     "output_type": "execute_result"
    }
   ],
   "source": [
    "target_counts5= df['Rating'].value_counts()\n",
    "\n",
    "df['Rating'].describe()"
   ]
  },
  {
   "cell_type": "code",
   "execution_count": 65,
   "id": "6af45be6",
   "metadata": {},
   "outputs": [
    {
     "name": "stdout",
     "output_type": "stream",
     "text": [
      "4.0    19216\n",
      "4.1     1492\n",
      "3.8     1312\n",
      "4.2     1299\n",
      "3.9     1250\n",
      "4.3     1154\n",
      "3.7      971\n",
      "4.4      745\n",
      "3.5      677\n",
      "3.6      632\n",
      "4.5      465\n",
      "3.4      429\n",
      "3.3      412\n",
      "4.6      322\n",
      "3.2      237\n",
      "3.0      210\n",
      "4.7      161\n",
      "3.1      144\n",
      "2.8      100\n",
      "2.9      100\n",
      "4.8       97\n",
      "2.7       65\n",
      "2.6       49\n",
      "2.5       48\n",
      "4.9       47\n",
      "5.0       37\n",
      "2.3       32\n",
      "2.2       28\n",
      "2.4       21\n",
      "2.0       12\n",
      "1.9       10\n",
      "2.1        8\n",
      "1.8        6\n",
      "1.5        4\n",
      "1.6        4\n",
      "1.3        3\n",
      "1.7        2\n",
      "1.1        2\n",
      "1.2        1\n",
      "Name: Rating, dtype: int64\n"
     ]
    }
   ],
   "source": [
    "print(target_counts5)"
   ]
  },
  {
   "cell_type": "code",
   "execution_count": 66,
   "id": "4e9481ed",
   "metadata": {},
   "outputs": [
    {
     "data": {
      "image/png": "[encoded data removed]",
      "text/plain": [
       "<Figure size 864x432 with 1 Axes>"
      ]
     },
     "metadata": {
      "needs_background": "light"
     },
     "output_type": "display_data"
    },
    {
     "data": {
      "text/plain": [
       "count    31804.000000\n",
       "mean         3.958989\n",
       "std          0.307801\n",
       "min          1.100000\n",
       "25%          4.000000\n",
       "50%          4.000000\n",
       "75%          4.000000\n",
       "max          5.000000\n",
       "Name: Rating, dtype: float64"
      ]
     },
     "execution_count": 66,
     "metadata": {},
     "output_type": "execute_result"
    }
   ],
   "source": [
    "plt.figure(figsize=(12,6))\n",
    "axis=sns.countplot(x=\"Rating\",data=df)\n",
    "plt.xticks(x=df['Rating'],rotation='vertical')\n",
    "plt.show()\n",
    "df[\"Rating\"].describe()"
   ]
  },
  {
   "cell_type": "code",
   "execution_count": 67,
   "id": "7c3f31ed",
   "metadata": {},
   "outputs": [],
   "source": [
    "No_of_Ratings=target_counts5.head(5)"
   ]
  },
  {
   "cell_type": "code",
   "execution_count": 70,
   "id": "22d583aa",
   "metadata": {},
   "outputs": [
    {
     "data": {
      "text/plain": [
       "<AxesSubplot:ylabel='Rating'>"
      ]
     },
     "execution_count": 70,
     "metadata": {},
     "output_type": "execute_result"
    },
    {
     "data": {
      "image/png": "[encoded data removed]",
      "text/plain": [
       "<Figure size 1080x504 with 2 Axes>"
      ]
     },
     "metadata": {
      "needs_background": "light"
     },
     "output_type": "display_data"
    }
   ],
   "source": [
    "fig, ax = plt.subplots(1, 2, figsize=(15,7))\n",
    "No_of_Ratings_barplot = sns.barplot(y = No_of_Ratings.index,x = No_of_Ratings.values, ax = ax[0])\n",
    "No_of_Ratings_barplot.set_ylabel('Top Cities')\n",
    "ax[0].set_facecolor('white')\n",
    "\n",
    "No_of_Ratings.plot.pie(autopct=\"%1.1f%%\", ax=ax[1])"
   ]
  },
  {
   "cell_type": "code",
   "execution_count": null,
   "id": "afb0fff5",
   "metadata": {},
   "outputs": [],
   "source": []
  },
  {
   "cell_type": "code",
   "execution_count": null,
   "id": "710a9d51",
   "metadata": {},
   "outputs": [],
   "source": []
  },
  {
   "cell_type": "code",
   "execution_count": null,
   "id": "7f350a88",
   "metadata": {},
   "outputs": [],
   "source": []
  },
  {
   "cell_type": "code",
   "execution_count": null,
   "id": "dec92883",
   "metadata": {},
   "outputs": [],
   "source": []
  },
  {
   "cell_type": "code",
   "execution_count": null,
   "id": "08ed28f4",
   "metadata": {},
   "outputs": [],
   "source": []
  },
  {
   "cell_type": "code",
   "execution_count": null,
   "id": "aa3d6ffd",
   "metadata": {},
   "outputs": [],
   "source": []
  },
  {
   "cell_type": "code",
   "execution_count": null,
   "id": "a82d288d",
   "metadata": {},
   "outputs": [],
   "source": []
  },
  {
   "cell_type": "code",
   "execution_count": null,
   "id": "c3cabfc8",
   "metadata": {},
   "outputs": [],
   "source": []
  },
  {
   "cell_type": "code",
   "execution_count": null,
   "id": "0fbd9fdd",
   "metadata": {},
   "outputs": [],
   "source": []
  },
  {
   "cell_type": "code",
   "execution_count": null,
   "id": "de9c819b",
   "metadata": {},
   "outputs": [],
   "source": []
  },
  {
   "cell_type": "code",
   "execution_count": null,
   "id": "fa0b1c51",
   "metadata": {},
   "outputs": [],
   "source": []
  }
 ],
 "metadata": {
  "kernelspec": {
   "display_name": "Python 3 (ipykernel)",
   "language": "python",
   "name": "python3"
  },
  "language_info": {
   "codemirror_mode": {
    "name": "ipython",
    "version": 3
   },
   "file_extension": ".py",
   "mimetype": "text/x-python",
   "name": "python",
   "nbconvert_exporter": "python",
   "pygments_lexer": "ipython3",
   "version": "3.9.7"
  }
 },
 "nbformat": 4,
 "nbformat_minor": 5
}
